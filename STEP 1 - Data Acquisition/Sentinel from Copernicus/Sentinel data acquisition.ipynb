{
 "cells": [
  {
   "cell_type": "markdown",
   "metadata": {},
   "source": [
    "#### Purpose: test the ability to gather Sentinel orbit information programmatically\n",
    "\n",
    "* Sentinel Hub Catalog API as documented here: https://documentation.dataspace.copernicus.eu/APIs/SentinelHub/Catalog.html\n",
    "* Requirement: fetch the ground coverage swath information for any given time window and WGS bounding box\n",
    "\n",
    ".. interpret the API responses"
   ]
  },
  {
   "cell_type": "code",
   "execution_count": 1,
   "metadata": {},
   "outputs": [],
   "source": [
    "import requests\n",
    "from dotenv import load_dotenv\n",
    "load_dotenv()  \n",
    "import os"
   ]
  },
  {
   "cell_type": "code",
   "execution_count": 2,
   "metadata": {},
   "outputs": [],
   "source": [
    "from oauthlib.oauth2 import BackendApplicationClient\n",
    "from requests_oauthlib import OAuth2Session\n",
    "\n",
    "# client credentials valid for 90 days from 07/07\n",
    "client_id = os.getenv('COPERNICUS_CLIENT_ID')\n",
    "client_secret = os.getenv('COPERNICUS_CLIENT_SECRET')\n",
    "\n",
    "# Create a session\n",
    "client = BackendApplicationClient(client_id=client_id)\n",
    "oauth = OAuth2Session(client=client)"
   ]
  },
  {
   "cell_type": "code",
   "execution_count": 3,
   "metadata": {},
   "outputs": [
    {
     "data": {
      "text/plain": [
       "'{\"type\":\"FeatureCollection\",\"features\":[{\"stac_version\":\"1.0.0\",\"stac_extensions\":[\"https://stac-extensions.github.io/sat/v1.0.0/schema.json\",\"https://stac-extensions.github.io/sar/v1.0.0/schema.json\",\"https://docs.sentinel-hub.com/api/latest/stac/s1/v1.0.0/schema.json\"],\"id\":\"S1B_IW_GRDH_1SDV_20191210T051027_20191210T051052_019298_0246FE_4BB2_COG.SAFE\",\"type\":\"Feature\",\"geometry\":{\"type\":\"Polygon\",\"crs\":{\"type\":\"name\",\"properties\":{\"name\":\"urn:ogc:def:crs:OGC::CRS84\"}},\"coordinates\":[[[15.972030082116722,45.054802313656495],[15.548309944575603,45.11230064043763],[15.221922587375724,45.155421044405074],[14.731431757498012,45.21835179527702],[14.403844862115967,45.25913514297667],[13.911598523258792,45.31854769598217],[13.582870920188538,45.356977311215616],[13.253703966030061,45.39446112495297],[12.823567843635715,45.441914099048034],[12.783487284242888,45.262153678015295],[12.738687755768076,45.082813701494786],[12.70226573708756,44.90256629541847],[12.667034978374417,44.7221858616912],[12.632946441269045,44.54167633670936],[12.593686708858261,44.36173216250032],[12.555179178353294,44.18170463026293],[12.502677505409574,43.942194073675296],[12.921827852434397,43.894415404336556],[13.242610128771208,43.85673874597641],[13.562984346501011,43.81816421761212],[14.04276203519825,43.758624090520875],[14.362079209920852,43.71781528128875],[14.84023243166567,43.654934981436085],[15.15844110069289,43.61190715028823],[15.571583424847129,43.55460069977776],[15.636403750585863,43.79416379091772],[15.68423205289676,43.974258792729614],[15.73298569827758,44.15423405366887],[15.77638029700418,44.33495932623073],[15.82132784110617,44.51547577203056],[15.867417786751695,44.69584168814155],[15.922077857617662,44.87503987630012],[15.972030082116722,45.054802313656495]]]},\"bbox\":[12.502677505409574,43.55460069977776,15.972030082116722,45.441914099048034],\"properties\":{\"datetime\":\"2019-12-10T05:10:27Z\",\"platform\":\"sentinel-1b\",\"instruments\":[\"c-sar\"],\"constellation\":\"sentinel-1\",\"sat:orbit_state\":\"descending\",\"sat:absolute_orbit\":19298,\"sat:relative_orbit\":22,\"sar:instrument_mode\":\"IW\",\"sar:frequency_band\":\"C\",\"sar:center_frequency\":5.405,\"sar:polarizations\":[\"VV\",\"VH\"],\"sar:product_type\":\"GRD\",\"sar:resolution_range\":20.0,\"sar:resolution_azimuth\":22.0,\"sar:pixel_spacing_range\":10.0,\"sar:pixel_spacing_azimuth\":10.0,\"s1:timeliness\":\"Fast24h\",\"s1:resolution\":\"HIGH\",\"s1:polarization\":\"DV\"},\"assets\":{\"data\":{\"href\":\"s3://EODATA/Sentinel-1/SAR/IW_GRDH_1S-COG/2019/12/10/S1B_IW_GRDH_1SDV_20191210T051027_20191210T051052_019298_0246FE_4BB2_COG.SAFE\",\"title\":\"s3\",\"type\":\"inode/directory\"},\"thumbnail\":null},\"collection\":\"sentinel-1-grd\",\"links\":[{\"href\":\"https://sh.dataspace.copernicus.eu/api/v1/catalog/1.0.0/\",\"rel\":\"root\",\"type\":\"application/json\"},{\"href\":\"https://sh.dataspace.copernicus.eu/api/v1/catalog/1.0.0/collections/sentinel-1-grd/items/S1B_IW_GRDH_1SDV_20191210T051027_20191210T051052_019298_0246FE_4BB2_COG.SAFE\",\"rel\":\"self\",\"type\":\"application/geo+json\"},{\"href\":\"https://sh.dataspace.copernicus.eu/api/v1/catalog/1.0.0/collections/sentinel-1-grd\",\"rel\":\"parent\",\"type\":\"application/json\"},{\"href\":\"https://sh.dataspace.copernicus.eu/api/v1/catalog/1.0.0/collections/sentinel-1-grd\",\"rel\":\"collection\",\"type\":\"application/json\"}]},{\"stac_version\":\"1.0.0\",\"stac_extensions\":[\"https://stac-extensions.github.io/sat/v1.0.0/schema.json\",\"https://stac-extensions.github.io/sar/v1.0.0/schema.json\",\"https://docs.sentinel-hub.com/api/latest/stac/s1/v1.0.0/schema.json\"],\"id\":\"S1B_IW_GRDH_1SDV_20191210T051002_20191210T051027_019298_0246FE_0F17_COG.SAFE\",\"type\":\"Feature\",\"geometry\":{\"type\":\"Polygon\",\"crs\":{\"type\":\"name\",\"properties\":{\"name\":\"urn:ogc:def:crs:OGC::CRS84\"}},\"coordinates\":[[[16.39449443667456,46.5529869534115],[15.96495741511517,46.61004632527906],[15.62971729999379,46.6533542424918],[15.12587003560352,46.71647302147011],[14.789329053938404,46.757319106400146],[14.283580125872238,46.816731551084985],[13.945805075862793,46.855097992697935],[13.60755563485524,46.89246775004321],[13.16162346931256,46.94010240970943],[13.117567643198036,46.76075113299122],[13.07929709116342,46.58070508442976],[13.038816755853642,46.4008908259744],[13.000347262503595,46.22086474595385],[12.958548640118304,46.041191454504286],[12.918549620858903,45.86132825868387],[12.87747770253392,45.681580452138775],[12.833602814313837,45.50213516574149],[12.819924136678775,45.442617094509984],[13.25385193876303,45.39475314435221],[13.58302059454887,45.35726930411558],[13.91174986286579,45.31883952516146],[14.403998708822751,45.25942679973237],[14.731587281780039,45.21864338115482],[15.222080594643382,45.15571242038479],[15.548469584079694,45.11259180749502],[15.966708444692976,45.05584706009754],[15.98371022799714,45.115348995350615],[16.037647768454924,45.29467285899882],[16.088772800464632,45.47439215123907],[16.138972793516686,45.654248044415716],[16.19101341630551,45.833865324480314],[16.23989959931102,46.01392023814855],[16.290859941391748,46.19370556013253],[16.33977397484601,46.37377686855737],[16.39449443667456,46.5529869534115]]]},\"bbox\":[12.819924136678775,45.05584706009754,16.39449443667456,46.94010240970943],\"properties\":{\"datetime\":\"2019-12-10T05:10:02Z\",\"platform\":\"sentinel-1b\",\"instruments\":[\"c-sar\"],\"constellation\":\"sentinel-1\",\"sat:orbit_state\":\"descending\",\"sat:absolute_orbit\":19298,\"sat:relative_orbit\":22,\"sar:instrument_mode\":\"IW\",\"sar:frequency_band\":\"C\",\"sar:center_frequency\":5.405,\"sar:polarizations\":[\"VV\",\"VH\"],\"sar:product_type\":\"GRD\",\"sar:resolution_range\":20.0,\"sar:resolution_azimuth\":22.0,\"sar:pixel_spacing_range\":10.0,\"sar:pixel_spacing_azimuth\":10.0,\"s1:timeliness\":\"NRT3h\",\"s1:resolution\":\"HIGH\",\"s1:polarization\":\"DV\"},\"assets\":{\"data\":{\"href\":\"s3://EODATA/Sentinel-1/SAR/IW_GRDH_1S-COG/2019/12/10/S1B_IW_GRDH_1SDV_20191210T051002_20191210T051027_019298_0246FE_0F17_COG.SAFE\",\"title\":\"s3\",\"type\":\"inode/directory\"},\"thumbnail\":null},\"collection\":\"sentinel-1-grd\",\"links\":[{\"href\":\"https://sh.dataspace.copernicus.eu/api/v1/catalog/1.0.0/\",\"rel\":\"root\",\"type\":\"application/json\"},{\"href\":\"https://sh.dataspace.copernicus.eu/api/v1/catalog/1.0.0/collections/sentinel-1-grd/items/S1B_IW_GRDH_1SDV_20191210T051002_20191210T051027_019298_0246FE_0F17_COG.SAFE\",\"rel\":\"self\",\"type\":\"application/geo+json\"},{\"href\":\"https://sh.dataspace.copernicus.eu/api/v1/catalog/1.0.0/collections/sentinel-1-grd\",\"rel\":\"parent\",\"type\":\"application/json\"},{\"href\":\"https://sh.dataspace.copernicus.eu/api/v1/catalog/1.0.0/collections/sentinel-1-grd\",\"rel\":\"collection\",\"type\":\"application/json\"}]},{\"stac_version\":\"1.0.0\",\"stac_extensions\":[\"https://stac-extensions.github.io/sat/v1.0.0/schema.json\",\"https://stac-extensions.github.io/sar/v1.0.0/schema.json\",\"https://docs.sentinel-hub.com/api/latest/stac/s1/v1.0.0/schema.json\"],\"id\":\"S1B_IW_GRDH_1SDV_20191210T051002_20191210T051027_019298_0246FE_41BC_COG.SAFE\",\"type\":\"Feature\",\"geometry\":{\"type\":\"Polygon\",\"crs\":{\"type\":\"name\",\"properties\":{\"name\":\"urn:ogc:def:crs:OGC::CRS84\"}},\"coordinates\":[[[16.394407360061866,46.55296716643522],[15.964870464970927,46.610026348716524],[15.629630457912574,46.65333415265016],[15.125783354382294,46.716452756298644],[14.789242479513842,46.757298720689825],[14.283493715202281,46.81671099313935],[13.945718775772637,46.85507732090798],[13.607469446549182,46.892446965179474],[13.161537430407067,46.94008147895076],[13.117481623043327,46.760729946985336],[13.079211337230326,46.58068361312164],[13.038731076531521,46.40086909303494],[13.000261783929298,46.22084273977424],[12.958463098495827,46.041169201030634],[12.918464201088508,45.8613057418645],[12.877392222512842,45.68155768988021],[12.833517556732776,45.502112121301685],[12.819839002721265,45.44259394688944],[13.25376666528977,45.39473016923436],[13.582935198956402,45.35724638297785],[13.911664375676267,45.3188167812527],[14.403913066025085,45.25940423161584],[14.731501521804088,45.21862087019682],[15.221994685013057,45.15569008858793],[15.548383593347545,45.11256965741116],[15.966622324265604,45.05582503963714],[15.983623923440994,45.11532709160123],[16.03756119806099,45.29465124205002],[16.08868641325726,45.47437075310551],[16.138886261324192,45.654226912421784],[16.19092707221136,45.83384440766994],[16.239812955999277,46.013899638706945],[16.290773220041885,46.193685192173405],[16.3396868221433,46.37375680484122],[16.394407360061866,46.55296716643522]]]},\"bbox\":[12.819839002721265,45.05582503963714,16.394407360061866,46.94008147895076],\"properties\":{\"datetime\":\"2019-12-10T05:10:02Z\",\"platform\":\"sentinel-1b\",\"instruments\":[\"c-sar\"],\"constellation\":\"sentinel-1\",\"sat:orbit_state\":\"descending\",\"sat:absolute_orbit\":19298,\"sat:relative_orbit\":22,\"sar:instrument_mode\":\"IW\",\"sar:frequency_band\":\"C\",\"sar:center_frequency\":5.405,\"sar:polarizations\":[\"VV\",\"VH\"],\"sar:product_type\":\"GRD\",\"sar:resolution_range\":20.0,\"sar:resolution_azimuth\":22.0,\"sar:pixel_spacing_range\":10.0,\"sar:pixel_spacing_azimuth\":10.0,\"s1:timeliness\":\"Fast24h\",\"s1:resolution\":\"HIGH\",\"s1:polarization\":\"DV\"},\"assets\":{\"data\":{\"href\":\"s3://EODATA/Sentinel-1/SAR/IW_GRDH_1S-COG/2019/12/10/S1B_IW_GRDH_1SDV_20191210T051002_20191210T051027_019298_0246FE_41BC_COG.SAFE\",\"title\":\"s3\",\"type\":\"inode/directory\"},\"thumbnail\":null},\"collection\":\"sentinel-1-grd\",\"links\":[{\"href\":\"https://sh.dataspace.copernicus.eu/api/v1/catalog/1.0.0/\",\"rel\":\"root\",\"type\":\"application/json\"},{\"href\":\"https://sh.dataspace.copernicus.eu/api/v1/catalog/1.0.0/collections/sentinel-1-grd/items/S1B_IW_GRDH_1SDV_20191210T051002_20191210T051027_019298_0246FE_41BC_COG.SAFE\",\"rel\":\"self\",\"type\":\"application/geo+json\"},{\"href\":\"https://sh.dataspace.copernicus.eu/api/v1/catalog/1.0.0/collections/sentinel-1-grd\",\"rel\":\"parent\",\"type\":\"application/json\"},{\"href\":\"https://sh.dataspace.copernicus.eu/api/v1/catalog/1.0.0/collections/sentinel-1-grd\",\"rel\":\"collection\",\"type\":\"application/json\"}]}],\"links\":[{\"href\":\"https://sh.dataspace.copernicus.eu/api/v1/catalog/1.0.0/search\",\"rel\":\"self\",\"type\":\"application/geo+json\"}],\"context\":{\"limit\":5,\"returned\":3}}'"
      ]
     },
     "execution_count": 3,
     "metadata": {},
     "output_type": "execute_result"
    }
   ],
   "source": [
    "token = oauth.fetch_token(token_url='https://identity.dataspace.copernicus.eu/auth/realms/CDSE/protocol/openid-connect/token',\n",
    "                          client_secret=client_secret, include_client_id=True)\n",
    "url = \"https://sh.dataspace.copernicus.eu/api/v1/catalog/1.0.0/search\"\n",
    "headers = {\"Authorization\": \"Bearer \"+token['access_token']}\n",
    "\n",
    "data = {\n",
    "    \"bbox\": [13, 45, 14, 46],\n",
    "    \"datetime\": \"2019-12-10T00:00:00Z/2019-12-10T23:59:59Z\",\n",
    "    \"collections\": [\"sentinel-1-grd\"],\n",
    "    \"limit\": 5,\n",
    "    \"next\": 5,\n",
    "}\n",
    "\n",
    "\n",
    "response = requests.post(url, json=data, headers =headers)\n",
    "response.text"
   ]
  },
  {
   "cell_type": "markdown",
   "metadata": {},
   "source": [
    "Each API response containes a list of one or more \"features\".\n",
    "\n",
    "Each \"feature\" has a \"geometry\" element comprising \"polygon\" and \"bbox\""
   ]
  },
  {
   "cell_type": "code",
   "execution_count": 4,
   "metadata": {},
   "outputs": [
    {
     "name": "stdout",
     "output_type": "stream",
     "text": [
      "bbox 0 :  [12.502677505409574, 43.55460069977776, 15.972030082116722, 45.441914099048034]\n",
      "bbox 1 :  [12.819924136678775, 45.05584706009754, 16.39449443667456, 46.94010240970943]\n",
      "bbox 2 :  [12.819839002721265, 45.05582503963714, 16.394407360061866, 46.94008147895076]\n"
     ]
    }
   ],
   "source": [
    "for i in range(len(response.json()['features'])):\n",
    "    print(\"bbox \"+str(i)+\" : \", response.json()['features'][i]['bbox'])"
   ]
  }
 ],
 "metadata": {
  "kernelspec": {
   "display_name": "Python 3",
   "language": "python",
   "name": "python3"
  },
  "language_info": {
   "codemirror_mode": {
    "name": "ipython",
    "version": 3
   },
   "file_extension": ".py",
   "mimetype": "text/x-python",
   "name": "python",
   "nbconvert_exporter": "python",
   "pygments_lexer": "ipython3",
   "version": "3.9.11"
  }
 },
 "nbformat": 4,
 "nbformat_minor": 2
}
