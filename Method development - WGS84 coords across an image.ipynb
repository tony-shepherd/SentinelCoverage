{
 "cells": [
  {
   "cell_type": "code",
   "execution_count": 1,
   "metadata": {},
   "outputs": [],
   "source": [
    "import json\n",
    "import rasterio\n",
    "\n",
    "gfd_root = \"2 - Data Acquisition/Global Flood Database/\"\n",
    "gfd_tif_dir = \"2 - Data Acquisition/Global Flood Database/TIF/unzipped/\"\n",
    "img_filename =gfd_tif_dir+'DFO_4632_From_20180615_to_20180620.tif'\n",
    "json_filename = gfd_root+'/TIF/unzipped/DFO_4632_properties.json'"
   ]
  },
  {
   "cell_type": "markdown",
   "metadata": {},
   "source": [
    "See what the metadata in the separate json contains"
   ]
  },
  {
   "cell_type": "code",
   "execution_count": 2,
   "metadata": {},
   "outputs": [
    {
     "data": {
      "text/plain": [
       "{'dfo_centroid_y': 21.9855,\n",
       " 'dfo_main_cause': 'Monsoonal Rain',\n",
       " 'gfd_country_name': \"['THAILAND', 'BURMA', 'BANGLADESH', 'INDIA', 'CHINA']\",\n",
       " 'dfo_centroid_x': 93.8747,\n",
       " 'glide_index': '',\n",
       " 'slope_threshold': 5,\n",
       " 'dfo_severity': 1.5,\n",
       " 'threshold_b1b2': 0.946,\n",
       " 'otsu_sample_res': 231.66,\n",
       " 'dfo_displaced': 1000,\n",
       " 'id': 4632,\n",
       " 'cc': 'MMR, IND, BGD',\n",
       " 'began': '2018-06-15',\n",
       " 'dfo_validation_type': 'FloodList',\n",
       " 'composite_type': '3Day',\n",
       " 'dfo_country': 'Myanmar',\n",
       " 'dfo_other_country': '',\n",
       " 'dfo_dead': 1,\n",
       " 'gfd_country_code': \"['TH', 'BM', 'BG', 'IN', 'CH']\",\n",
       " 'ended': '2018-06-20',\n",
       " 'threshold_type': 'otsu',\n",
       " 'threshold_b7': 1159.9}"
      ]
     },
     "execution_count": 2,
     "metadata": {},
     "output_type": "execute_result"
    }
   ],
   "source": [
    "with open(json_filename) as f:\n",
    "\n",
    "    img_meta = json.load(f)\n",
    "\n",
    "f.close()\n",
    "\n",
    "img_meta"
   ]
  },
  {
   "cell_type": "markdown",
   "metadata": {},
   "source": [
    "Method to assign WGS85 coordinates to pixel coordinates"
   ]
  },
  {
   "cell_type": "code",
   "execution_count": 3,
   "metadata": {},
   "outputs": [
    {
     "name": "stdout",
     "output_type": "stream",
     "text": [
      "93.87507008459515 , 21.985143684720143\n"
     ]
    }
   ],
   "source": [
    "raster=rasterio.open(img_filename)\n",
    "spatial_transform = raster.meta['transform']\n",
    "\n",
    "# test using pixel coordinates of the centre of the image (to allow validation against the centroid info in the metadata json above)\n",
    "pixel_x = 4803\n",
    "pixel_y = 1444\n",
    "\n",
    "(wgs_x, wgs_y) = rasterio.transform.xy(spatial_transform,pixel_x,pixel_y)\n",
    "\n",
    "print(wgs_x,\",\",wgs_y)"
   ]
  },
  {
   "cell_type": "code",
   "execution_count": null,
   "metadata": {},
   "outputs": [],
   "source": []
  }
 ],
 "metadata": {
  "kernelspec": {
   "display_name": "Python 3",
   "language": "python",
   "name": "python3"
  },
  "language_info": {
   "codemirror_mode": {
    "name": "ipython",
    "version": 3
   },
   "file_extension": ".py",
   "mimetype": "text/x-python",
   "name": "python",
   "nbconvert_exporter": "python",
   "pygments_lexer": "ipython3",
   "version": "3.9.11"
  }
 },
 "nbformat": 4,
 "nbformat_minor": 2
}
