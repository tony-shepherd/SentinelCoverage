{
 "cells": [
  {
   "cell_type": "markdown",
   "metadata": {},
   "source": [
    "#### Purpose: Extract a set of tiff files from zip folders and keep a list of filenames and flood (start) dates\n",
    "\n",
    "Multiple tiff files were downloaded from the Global Flood Database (GFD).\n",
    "\n",
    "These came as individual zip folders, bundling the tiff files with documentation."
   ]
  },
  {
   "cell_type": "code",
   "execution_count": 1,
   "metadata": {},
   "outputs": [],
   "source": [
    "import zipfile\n",
    "import pandas as pd\n",
    "import os\n",
    "import pickle"
   ]
  },
  {
   "cell_type": "markdown",
   "metadata": {},
   "source": [
    "Unzip all zipped tiff files (one-off operation)"
   ]
  },
  {
   "cell_type": "code",
   "execution_count": 2,
   "metadata": {},
   "outputs": [],
   "source": [
    "zip_dir = './TIF/'\n",
    "unzip_dir = './TIF/unzipped/'\n",
    "\n",
    "# for file in os.listdir(zip_dir): \n",
    "#     if zipfile.is_zipfile(zip_dir+file): \n",
    "#         print(\"unzipping \"+zip_dir+file)\n",
    "#         with zipfile.ZipFile(zip_dir+file) as item: \n",
    "#            item.extractall(unzip_dir) "
   ]
  },
  {
   "cell_type": "markdown",
   "metadata": {},
   "source": [
    "Make dataframe of filename and metadata per GFD image"
   ]
  },
  {
   "cell_type": "code",
   "execution_count": 3,
   "metadata": {},
   "outputs": [
    {
     "data": {
      "text/html": [
       "<div>\n",
       "<style scoped>\n",
       "    .dataframe tbody tr th:only-of-type {\n",
       "        vertical-align: middle;\n",
       "    }\n",
       "\n",
       "    .dataframe tbody tr th {\n",
       "        vertical-align: top;\n",
       "    }\n",
       "\n",
       "    .dataframe thead th {\n",
       "        text-align: right;\n",
       "    }\n",
       "</style>\n",
       "<table border=\"1\" class=\"dataframe\">\n",
       "  <thead>\n",
       "    <tr style=\"text-align: right;\">\n",
       "      <th></th>\n",
       "      <th>DFO_id</th>\n",
       "      <th>tif_filename</th>\n",
       "      <th>flood_year</th>\n",
       "      <th>flood_start</th>\n",
       "      <th>flood_end</th>\n",
       "    </tr>\n",
       "  </thead>\n",
       "  <tbody>\n",
       "    <tr>\n",
       "      <th>0</th>\n",
       "      <td>DFO_1641</td>\n",
       "      <td>DFO_1641_From_20000918_to_20001021.tif</td>\n",
       "      <td>2000</td>\n",
       "      <td>2000-09-18</td>\n",
       "      <td>2000-10-21</td>\n",
       "    </tr>\n",
       "    <tr>\n",
       "      <th>1</th>\n",
       "      <td>DFO_1747</td>\n",
       "      <td>DFO_1747_From_20010708_to_20010810.tif</td>\n",
       "      <td>2001</td>\n",
       "      <td>2001-07-08</td>\n",
       "      <td>2001-08-10</td>\n",
       "    </tr>\n",
       "    <tr>\n",
       "      <th>2</th>\n",
       "      <td>DFO_1789</td>\n",
       "      <td>DFO_1789_From_20010820_to_20010911.tif</td>\n",
       "      <td>2001</td>\n",
       "      <td>2001-08-20</td>\n",
       "      <td>2001-09-11</td>\n",
       "    </tr>\n",
       "    <tr>\n",
       "      <th>3</th>\n",
       "      <td>DFO_1791</td>\n",
       "      <td>DFO_1791_From_20010907_to_20010924.tif</td>\n",
       "      <td>2001</td>\n",
       "      <td>2001-09-07</td>\n",
       "      <td>2001-09-24</td>\n",
       "    </tr>\n",
       "    <tr>\n",
       "      <th>4</th>\n",
       "      <td>DFO_1974</td>\n",
       "      <td>DFO_1974_From_20020621_to_20020828.tif</td>\n",
       "      <td>2002</td>\n",
       "      <td>2002-06-21</td>\n",
       "      <td>2002-08-28</td>\n",
       "    </tr>\n",
       "  </tbody>\n",
       "</table>\n",
       "</div>"
      ],
      "text/plain": [
       "     DFO_id                            tif_filename flood_year flood_start  \\\n",
       "0  DFO_1641  DFO_1641_From_20000918_to_20001021.tif       2000  2000-09-18   \n",
       "1  DFO_1747  DFO_1747_From_20010708_to_20010810.tif       2001  2001-07-08   \n",
       "2  DFO_1789  DFO_1789_From_20010820_to_20010911.tif       2001  2001-08-20   \n",
       "3  DFO_1791  DFO_1791_From_20010907_to_20010924.tif       2001  2001-09-07   \n",
       "4  DFO_1974  DFO_1974_From_20020621_to_20020828.tif       2002  2002-06-21   \n",
       "\n",
       "   flood_end  \n",
       "0 2000-10-21  \n",
       "1 2001-08-10  \n",
       "2 2001-09-11  \n",
       "3 2001-09-24  \n",
       "4 2002-08-28  "
      ]
     },
     "execution_count": 3,
     "metadata": {},
     "output_type": "execute_result"
    }
   ],
   "source": [
    "tif_filename = []\n",
    "DFO_id = []\n",
    "flood_start = []\n",
    "flood_end = []\n",
    "flood_year = []\n",
    "\n",
    "for file in os.listdir(unzip_dir): \n",
    "    if file.endswith(\".tif\"):\n",
    "        tif_filename.append(file)\n",
    "        DFO_id.append(file[0:8])\n",
    "        startdate_str = (file[file.find('From')+11:file.find('From')+13] +\"/\"+ file[file.find('From')+9:file.find('From')+11] +\"/\"+ file[file.find('From')+5:file.find('From')+9] )\n",
    "        enddate_str = (file[file.find('to')+9:file.find('to')+11] +\"/\"+ file[file.find('to')+7:file.find('to')+9] +\"/\"+ file[file.find('to')+3:file.find('to')+7] )\n",
    "        flood_start.append(pd.to_datetime(startdate_str,format=\"%d/%m/%Y\"))\n",
    "        flood_end.append(pd.to_datetime(enddate_str,format=\"%d/%m/%Y\"))\n",
    "        flood_year.append(startdate_str[-4:])\n",
    "\n",
    "meta_tif_df = pd.DataFrame({\"DFO_id\":DFO_id,\n",
    "                            \"tif_filename\":tif_filename,\n",
    "                            \"flood_year\":flood_year,\n",
    "                            \"flood_start\":flood_start,\n",
    "                            \"flood_end\":flood_end})\n",
    "\n",
    "meta_tif_df.head()"
   ]
  },
  {
   "cell_type": "code",
   "execution_count": 4,
   "metadata": {},
   "outputs": [],
   "source": [
    "with open('meta_tif_df.pkl', 'wb') as f:  \n",
    "    pickle.dump(meta_tif_df, f) \n",
    "\n",
    "f.close()"
   ]
  }
 ],
 "metadata": {
  "kernelspec": {
   "display_name": "Python 3",
   "language": "python",
   "name": "python3"
  },
  "language_info": {
   "codemirror_mode": {
    "name": "ipython",
    "version": 3
   },
   "file_extension": ".py",
   "mimetype": "text/x-python",
   "name": "python",
   "nbconvert_exporter": "python",
   "pygments_lexer": "ipython3",
   "version": "3.9.11"
  }
 },
 "nbformat": 4,
 "nbformat_minor": 2
}
