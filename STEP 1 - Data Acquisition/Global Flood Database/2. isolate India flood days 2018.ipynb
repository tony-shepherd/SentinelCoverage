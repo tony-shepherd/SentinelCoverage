{
 "cells": [
  {
   "cell_type": "markdown",
   "metadata": {},
   "source": [
    "#### Purpose: the resulting list of days will be used narrow down the fetch of satellite data from the Sentinel Hub\n"
   ]
  },
  {
   "cell_type": "code",
   "execution_count": 10,
   "metadata": {},
   "outputs": [],
   "source": [
    "from dateutil import rrule\n",
    "import pickle"
   ]
  },
  {
   "cell_type": "code",
   "execution_count": 11,
   "metadata": {},
   "outputs": [],
   "source": [
    "with open('meta_floods_df.pkl', 'rb') as f:\n",
    "    meta_df = pickle.load(f) \n",
    "f.close()\n",
    "\n",
    "#cut down to 2018 only\n",
    "meta_df = meta_df[meta_df['start_date'].dt.year==2018]\n"
   ]
  },
  {
   "cell_type": "markdown",
   "metadata": {},
   "source": [
    "Identify which individual days in 2018 had one or more flood in India, based on unique flood event start dates and end dates"
   ]
  },
  {
   "cell_type": "code",
   "execution_count": 12,
   "metadata": {},
   "outputs": [],
   "source": [
    "#create a list of all valid dates in 2018\n",
    "\n",
    "def get_days(start, end):\n",
    "\n",
    "    return [dt.strftime(\"%d/%m/%Y\") for dt in rrule.rrule(rrule.DAILY,dtstart=start,until=end)]\n",
    "\n",
    "flood_days = []\n",
    "\n",
    "# get the days in the range for each flood in the metadata table\n",
    "for index, row in meta_df.iterrows():\n",
    "    days_in_range = get_days(row['start_date'].date(), row['end_date'].date())\n",
    "    flood_days = flood_days + days_in_range\n",
    "\n",
    "# get unique set of flood dates\n",
    "flood_days = list(dict.fromkeys(flood_days))\n"
   ]
  },
  {
   "cell_type": "code",
   "execution_count": 13,
   "metadata": {},
   "outputs": [],
   "source": [
    "with open('flood_days.pkl', 'wb') as f:  \n",
    "    pickle.dump(flood_days, f) \n",
    "\n",
    "f.close()"
   ]
  }
 ],
 "metadata": {
  "kernelspec": {
   "display_name": "Python 3",
   "language": "python",
   "name": "python3"
  },
  "language_info": {
   "codemirror_mode": {
    "name": "ipython",
    "version": 3
   },
   "file_extension": ".py",
   "mimetype": "text/x-python",
   "name": "python",
   "nbconvert_exporter": "python",
   "pygments_lexer": "ipython3",
   "version": "3.9.11"
  }
 },
 "nbformat": 4,
 "nbformat_minor": 2
}
